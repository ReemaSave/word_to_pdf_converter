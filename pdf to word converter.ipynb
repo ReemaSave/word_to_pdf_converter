{
 "cells": [
  {
   "cell_type": "code",
   "execution_count": 1,
   "metadata": {},
   "outputs": [],
   "source": [
    "import tkinter\n",
    "from tkinter import filedialog\n",
    "import os\n",
    "import win32com.client\n",
    "import re\n",
    "import progressbar\n",
    "from time import sleep\n",
    "\n"
   ]
  },
  {
   "cell_type": "code",
   "execution_count": 2,
   "metadata": {},
   "outputs": [],
   "source": [
    "root = tkinter.Tk()\n",
    "root.withdraw()\n",
    "pdf_path = (r'R:/converter_pdf_word')\n",
    "file_name = []\n",
    "flag=0"
   ]
  },
  {
   "cell_type": "code",
   "execution_count": 3,
   "metadata": {},
   "outputs": [],
   "source": [
    "def search_for_file_path ():\n",
    "    tempdir = filedialog.askopenfilenames(parent=root, title='Please select a directory')\n",
    "    return tempdir"
   ]
  },
  {
   "cell_type": "code",
   "execution_count": 4,
   "metadata": {},
   "outputs": [],
   "source": [
    "def pdf_to_word_converter(pdf_Names):\n",
    "    word = win32com.client.Dispatch(\"Word.Application\")\n",
    "    word.visible = 0\n",
    "    global flag\n",
    "    infile=''\n",
    "    new_file_name=''\n",
    "    \n",
    "    if len(pdf_Names)==0:\n",
    "        print(\"Please Select PDF/PDF's to convert\")\n",
    "    else:\n",
    "\n",
    "        for i in pdf_Names:\n",
    "            \n",
    "            new_Name=i.replace(\"pdf\",\"docx\")\n",
    "    #         and new_Name not in list_of_file\n",
    "            if re.findall('\\s+',i) :\n",
    "                no_space_name=i.replace(\" \",\"_\")\n",
    "                old_file_name=pdf_path+'/'+i\n",
    "                new_file_name=pdf_path+'/'+no_space_name\n",
    "                os.rename(old_file_name,new_file_name)\n",
    "                infile =new_file_name\n",
    "\n",
    "            else:\n",
    "                infile=pdf_path+'/'+i\n",
    "\n",
    "\n",
    "\n",
    "            outfile=filedialog.askdirectory(parent=root, title='Please select a directory to save your File.')\n",
    "            outfile=outfile+'/'+new_Name\n",
    "            if outfile=='' or re.findall(r'.*(?=/.*)',outfile)[0]=='':\n",
    "                print('Please select destination to Save your file.')\n",
    "            else:\n",
    "\n",
    "\n",
    "                bar = progressbar.ProgressBar(maxval=20, \\\n",
    "                widgets=[progressbar.Bar('=', '[',']'),  ' ', progressbar.Percentage()])\n",
    "                bar.start()\n",
    "                for i in range(20):\n",
    "                    bar.update(i+1)\n",
    "                    sleep(0.1)\n",
    "                bar.finish()\n",
    "                wb = word.Documents.Open(infile)\n",
    "                wb.SaveAs2(outfile, FileFormat=16)\n",
    "                wb.Close()\n",
    "\n",
    "                if new_file_name!='':\n",
    "                    os.rename(new_file_name,old_file_name)\n",
    "                    flag=0\n",
    "                flag=1\n",
    "\n",
    "\n",
    "\n",
    "                print(\"Download Successful.\")\n",
    "        \n",
    "    \n",
    "#     if flag==0:\n",
    "#         print(\"No new file to convert to pdf and file already exists.\")\n",
    "\n",
    "        "
   ]
  },
  {
   "cell_type": "code",
   "execution_count": 5,
   "metadata": {},
   "outputs": [
    {
     "name": "stderr",
     "output_type": "stream",
     "text": [
      "[========================================================================] 100%\n"
     ]
    },
    {
     "name": "stdout",
     "output_type": "stream",
     "text": [
      "Download Successful.\n"
     ]
    }
   ],
   "source": [
    "file_path_variable=search_for_file_path()\n",
    "\n",
    "pdf_Names=[]\n",
    "for i in file_path_variable:\n",
    "#     fname=i.split(\"/\")[-1]\n",
    "    fname=re.findall(r'(?<=[a-z]/).*\\..*',i)\n",
    "    pdf_Names.append(fname[0])\n",
    "# print(fname)\n",
    "# print(pdf_Names)\n",
    "\n",
    "\n",
    "pdf_to_word_converter(pdf_Names)\n"
   ]
  },
  {
   "cell_type": "code",
   "execution_count": null,
   "metadata": {},
   "outputs": [],
   "source": []
  },
  {
   "cell_type": "code",
   "execution_count": null,
   "metadata": {},
   "outputs": [],
   "source": []
  }
 ],
 "metadata": {
  "kernelspec": {
   "display_name": "Python 3",
   "language": "python",
   "name": "python3"
  },
  "language_info": {
   "codemirror_mode": {
    "name": "ipython",
    "version": 3
   },
   "file_extension": ".py",
   "mimetype": "text/x-python",
   "name": "python",
   "nbconvert_exporter": "python",
   "pygments_lexer": "ipython3",
   "version": "3.6.5"
  }
 },
 "nbformat": 4,
 "nbformat_minor": 2
}
