{
 "cells": [
  {
   "cell_type": "code",
   "execution_count": 1,
   "metadata": {},
   "outputs": [],
   "source": [
    "import tkinter\n",
    "from tkinter import filedialog\n",
    "import os\n",
    "import win32com.client\n",
    "import re\n",
    "import progressbar\n",
    "from time import sleep\n"
   ]
  },
  {
   "cell_type": "code",
   "execution_count": 2,
   "metadata": {},
   "outputs": [],
   "source": [
    "root = tkinter.Tk()\n",
    "root.withdraw()\n",
    "path = (r'path of the folder where the documents are saved')\n",
    "pdf_path='path where the coverted file is to be stored.'\n",
    "file_name = []\n",
    "list_of_file=[]\n",
    "word = win32com.client.Dispatch('Word.Application')\n",
    "flag=0"
   ]
  },
  {
   "cell_type": "code",
   "execution_count": 3,
   "metadata": {},
   "outputs": [],
   "source": [
    "def search_for_file_path ():\n",
    "    currdir = 'path of the folder that has document files.'\n",
    "    tempdir = filedialog.askopenfilenames(parent=root, initialdir=currdir, title='Please select a directory')\n",
    "    return tempdir\n",
    "    "
   ]
  },
  {
   "cell_type": "code",
   "execution_count": 4,
   "metadata": {},
   "outputs": [],
   "source": [
    "def converter(doc_Names):\n",
    "    global flag\n",
    "    in_file=''\n",
    "\n",
    "    for f in doc_Names:\n",
    "\n",
    "\n",
    "        extension=re.findall(r'\\..*',f)\n",
    "        print(extension)\n",
    "        list_of_file=os.listdir('path where the coverted file is to be stored.')\n",
    "\n",
    "        if f.endswith(extension[0]) and extension[0]!=\".pdf\":\n",
    "            new_name = f.replace(extension[0], \".pdf\")\n",
    "\n",
    "            if re.findall('\\s+',f) and new_name not in list_of_file:\n",
    "                no_space_name=f.replace(\" \",\"_\")\n",
    "                old_file_name=path+'/'+f\n",
    "                new_file_name=path+'/'+no_space_name\n",
    "                os.rename(old_file_name,new_file_name)\n",
    "                in_file =new_file_name\n",
    "                \n",
    "            else:\n",
    "                in_file =(path + '/'+f)\n",
    "\n",
    "\n",
    "            new_file=(pdf_path + '/' + new_name)\n",
    "\n",
    "\n",
    "\n",
    "            if new_name not in list_of_file:\n",
    "\n",
    "                bar = progressbar.ProgressBar(maxval=20, \\\n",
    "                widgets=[progressbar.Bar('=', '[', ']'), ' ', progressbar.Percentage()])\n",
    "                bar.start()\n",
    "                for i in range(20):\n",
    "                    bar.update(i+1)\n",
    "                    sleep(0.1)\n",
    "                bar.finish()\n",
    "\n",
    "\n",
    "                doc = word.Documents.Open(in_file)\n",
    "                doc.SaveAs(new_file, FileFormat = 17)\n",
    "                doc.Close()\n",
    "                \n",
    "                \n",
    "                \n",
    "                flag=1\n",
    "                \n",
    "                continue\n",
    "                    \n",
    "#     list_of_file=os.listdir('R:/converter/pdfs')   \n",
    "\n",
    "    for parent, dirnames, filenames in os.walk('path where the coverted file is to be stored.'):\n",
    "        for fn in filenames:\n",
    "            if re.findall('%20',fn):\n",
    "                a=fn.replace(\"%20\",\" \")\n",
    "                os.rename('path where the coverted file is to be stored.'+fn,'path where the coverted file is to be stored.'+a)\n",
    "                os.rename(new_file_name,old_file_name)\n",
    "                \n",
    "\n",
    "    print(\"converted\")\n",
    "                \n",
    "    if flag==0:\n",
    "        print(\"No new file to convert to pdf and file already exists.\")\n",
    "            "
   ]
  },
  {
   "cell_type": "code",
   "execution_count": 5,
   "metadata": {},
   "outputs": [
    {
     "name": "stderr",
     "output_type": "stream",
     "text": [
      "[=======                                                                 ]  10%\r"
     ]
    },
    {
     "name": "stdout",
     "output_type": "stream",
     "text": [
      "['.docx']\n"
     ]
    },
    {
     "name": "stderr",
     "output_type": "stream",
     "text": [
      "[========================================================================] 100%\n"
     ]
    },
    {
     "name": "stdout",
     "output_type": "stream",
     "text": [
      "converted\n"
     ]
    }
   ],
   "source": [
    "file_path_variable = search_for_file_path()\n",
    "\n",
    "\n",
    "doc_Names=[]\n",
    "for i in file_path_variable:\n",
    "    fname=re.findall(r'(?<=[a-z]/).*\\..*',i)\n",
    "    doc_Names.append(fname[0])\n",
    "\n",
    "converter(doc_Names)\n"
   ]
  },
  {
   "cell_type": "code",
   "execution_count": null,
   "metadata": {},
   "outputs": [],
   "source": []
  },
  {
   "cell_type": "code",
   "execution_count": null,
   "metadata": {},
   "outputs": [],
   "source": []
  }
 ],
 "metadata": {
  "kernelspec": {
   "display_name": "Python 3",
   "language": "python",
   "name": "python3"
  },
  "language_info": {
   "codemirror_mode": {
    "name": "ipython",
    "version": 3
   },
   "file_extension": ".py",
   "mimetype": "text/x-python",
   "name": "python",
   "nbconvert_exporter": "python",
   "pygments_lexer": "ipython3",
   "version": "3.6.5"
  }
 },
 "nbformat": 4,
 "nbformat_minor": 2
}
